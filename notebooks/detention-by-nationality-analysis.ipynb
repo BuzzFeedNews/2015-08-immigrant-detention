{
 "cells": [
  {
   "cell_type": "markdown",
   "metadata": {},
   "source": [
    "# Detention By Nationality Analysis\n",
    "\n",
    "The full methodology for this analysis is available [here](../methodology.md)."
   ]
  },
  {
   "cell_type": "markdown",
   "metadata": {},
   "source": [
    "## Load the data"
   ]
  },
  {
   "cell_type": "code",
   "execution_count": 1,
   "metadata": {
    "collapsed": false
   },
   "outputs": [],
   "source": [
    "import pandas as pd\n",
    "import sys\n",
    "sys.path.append(\"../utils\")\n",
    "import loaders"
   ]
  },
  {
   "cell_type": "markdown",
   "metadata": {},
   "source": [
    "*Note: loaders is a custom module to handle basic data-loading. It is available [here](https://github.com/BuzzFeedNews/2015-08-immigration/blob/master/utils/loaders.py).*"
   ]
  },
  {
   "cell_type": "code",
   "execution_count": 2,
   "metadata": {
    "collapsed": false
   },
   "outputs": [],
   "source": [
    "first_scheduled_proceeding = pd.read_csv(\"../data/first-scheduled-proceeding.csv\", \n",
    "     parse_dates=[\"ADJ_DATE\"],\n",
    "     dtype={ \"IDNCASE\": str, \"IDNPROCEEDING\": str })"
   ]
  },
  {
   "cell_type": "markdown",
   "metadata": {},
   "source": [
    "*Note: first-scheduled-proceeding.csv is a pre-processed data file. The code to create that file from tbl_schedule.csv is available [here](../utils/generate-first-scheduled-proceeding.py).*"
   ]
  },
  {
   "cell_type": "code",
   "execution_count": 3,
   "metadata": {
    "collapsed": false
   },
   "outputs": [],
   "source": [
    "nationality_table = loaders.load_file(\"tblLookupNationality.csv\")"
   ]
  },
  {
   "cell_type": "code",
   "execution_count": 4,
   "metadata": {
    "collapsed": false
   },
   "outputs": [],
   "source": [
    "case_date_list = [\n",
    "    \"E_28_DATE\",\n",
    "    \"DATE_OF_ENTRY\",\n",
    "    \"C_BIRTHDATE\",\n",
    "    \"C_RELEASE_DATE\",\n",
    "    \"DATE_DETAINED\",\n",
    "    \"DATE_RELEASED\"\n",
    "]"
   ]
  },
  {
   "cell_type": "code",
   "execution_count": 5,
   "metadata": {
    "collapsed": false
   },
   "outputs": [],
   "source": [
    "_cases = loaders.load_file(\"A_tblCase.csv\",\n",
    "    parse_dates=case_date_list,\n",
    "    dtype={ \"IDNCASE\": str })"
   ]
  },
  {
   "cell_type": "code",
   "execution_count": 6,
   "metadata": {
    "collapsed": false
   },
   "outputs": [],
   "source": [
    "_cases[\"GENDER\"] = _cases[\"GENDER\"].fillna(\"UNK\")"
   ]
  },
  {
   "cell_type": "code",
   "execution_count": 7,
   "metadata": {
    "collapsed": false
   },
   "outputs": [
    {
     "name": "stderr",
     "output_type": "stream",
     "text": [
      "Skipping line 1165848: expected 5 fields, saw 6\n",
      "\n",
      "Skipping line 1433634: expected 5 fields, saw 6\n",
      "\n",
      "Skipping line 2646392: expected 5 fields, saw 6\n",
      "\n",
      "Skipping line 2847501: expected 5 fields, saw 6\n",
      "\n",
      "Skipping line 2947399: expected 5 fields, saw 6\n",
      "\n",
      "Skipping line 3131015: expected 5 fields, saw 6\n",
      "\n"
     ]
    }
   ],
   "source": [
    "_charges = loaders.load_file(\"B_tblProceedCharges.csv\",\n",
    "    dtype={ \"IDNCASE\": str, \"IDNPROCEEDING\": str })"
   ]
  },
  {
   "cell_type": "markdown",
   "metadata": {},
   "source": [
    "*Note: Six rows — of the more than 8 million total rows — in the charges table contain malformed data stemming from extra tab characters, triggering the warning messages above.*"
   ]
  },
  {
   "cell_type": "markdown",
   "metadata": {},
   "source": [
    "## Process the data\n",
    "\n",
    "Join the various tables and prepare them for analysis."
   ]
  },
  {
   "cell_type": "code",
   "execution_count": 8,
   "metadata": {
    "collapsed": false
   },
   "outputs": [],
   "source": [
    "charges_group = _charges.groupby([ \"IDNCASE\", \"IDNPROCEEDING\" ])"
   ]
  },
  {
   "cell_type": "code",
   "execution_count": 9,
   "metadata": {
    "collapsed": false
   },
   "outputs": [],
   "source": [
    "charge_lists = pd.DataFrame({\n",
    "    \"charge_list\": charges_group[\"CHARGE\"].apply(\"|\".join)\n",
    "}).reset_index()"
   ]
  },
  {
   "cell_type": "code",
   "execution_count": 10,
   "metadata": {
    "collapsed": false
   },
   "outputs": [
    {
     "data": {
      "text/html": [
       "<div style=\"max-height:1000px;max-width:1500px;overflow:auto;\">\n",
       "<table border=\"1\" class=\"dataframe\">\n",
       "  <thead>\n",
       "    <tr style=\"text-align: right;\">\n",
       "      <th></th>\n",
       "      <th>IDNCASE</th>\n",
       "      <th>IDNPROCEEDING</th>\n",
       "      <th>charge_list</th>\n",
       "    </tr>\n",
       "  </thead>\n",
       "  <tbody>\n",
       "    <tr>\n",
       "      <th>0</th>\n",
       "      <td> 2046920</td>\n",
       "      <td> 3200048</td>\n",
       "      <td> 212a06Ai     </td>\n",
       "    </tr>\n",
       "    <tr>\n",
       "      <th>1</th>\n",
       "      <td> 2046921</td>\n",
       "      <td> 3200049</td>\n",
       "      <td> 212a06Ai     </td>\n",
       "    </tr>\n",
       "    <tr>\n",
       "      <th>2</th>\n",
       "      <td> 2046922</td>\n",
       "      <td> 3200050</td>\n",
       "      <td> 212a06Ai     </td>\n",
       "    </tr>\n",
       "    <tr>\n",
       "      <th>3</th>\n",
       "      <td> 2046923</td>\n",
       "      <td> 3200051</td>\n",
       "      <td> 212a06Ci     </td>\n",
       "    </tr>\n",
       "    <tr>\n",
       "      <th>4</th>\n",
       "      <td> 2046923</td>\n",
       "      <td> 3525150</td>\n",
       "      <td>      212a06Ci</td>\n",
       "    </tr>\n",
       "  </tbody>\n",
       "</table>\n",
       "</div>"
      ],
      "text/plain": [
       "   IDNCASE IDNPROCEEDING    charge_list\n",
       "0  2046920       3200048  212a06Ai     \n",
       "1  2046921       3200049  212a06Ai     \n",
       "2  2046922       3200050  212a06Ai     \n",
       "3  2046923       3200051  212a06Ci     \n",
       "4  2046923       3525150       212a06Ci"
      ]
     },
     "execution_count": 10,
     "metadata": {},
     "output_type": "execute_result"
    }
   ],
   "source": [
    "charge_lists.head()"
   ]
  },
  {
   "cell_type": "code",
   "execution_count": 11,
   "metadata": {
    "collapsed": false
   },
   "outputs": [],
   "source": [
    "assert(charge_lists[\"IDNCASE\"].nunique() == 5033293)\n",
    "assert(len(first_scheduled_proceeding) == 5045511)"
   ]
  },
  {
   "cell_type": "markdown",
   "metadata": {},
   "source": [
    "From the numbers above: A small fraction of cases — approximately 0.2% — have a scheduled proceding but no charges."
   ]
  },
  {
   "cell_type": "code",
   "execution_count": 12,
   "metadata": {
    "collapsed": false
   },
   "outputs": [],
   "source": [
    "cases_with_first_proceeding = first_scheduled_proceeding\\\n",
    "    .merge(charge_lists, how=\"left\", on=[ \"IDNCASE\", \"IDNPROCEEDING\" ])\\\n",
    "    .merge(_cases, how=\"left\", on=\"IDNCASE\", suffixes=[\"_schedule\", \"_case\"])"
   ]
  },
  {
   "cell_type": "markdown",
   "metadata": {},
   "source": [
    "Legal representatives file the EOIR-28 form to notify the court of their representation for a given immigrant.\n",
    "\n",
    "`ADJ_DATE` in this table indicates the date of the case's first proceeding."
   ]
  },
  {
   "cell_type": "code",
   "execution_count": 13,
   "metadata": {
    "collapsed": false
   },
   "outputs": [],
   "source": [
    "cases_with_first_proceeding[\"legal_rep_at_first_proceeding\"] = cases_with_first_proceeding\\\n",
    "    .apply(lambda x: x[\"E_28_DATE\"] <= x[\"ADJ_DATE\"], axis=1)"
   ]
  },
  {
   "cell_type": "markdown",
   "metadata": {},
   "source": [
    "## Select non-criminal removal cases between Jan. 1, 2003 and Jan. 1, 2015"
   ]
  },
  {
   "cell_type": "code",
   "execution_count": 14,
   "metadata": {
    "collapsed": false
   },
   "outputs": [],
   "source": [
    "selected_cases = cases_with_first_proceeding[\n",
    "     # Select cases with first-scheduled-hearing dates in 2003–2014\n",
    "    (cases_with_first_proceeding[\"ADJ_DATE\"] >= \"2003-01-01\") &\n",
    "    (cases_with_first_proceeding[\"ADJ_DATE\"] < \"2015-01-01\") &\n",
    "    # Remove unaccompanied children\n",
    "    (cases_with_first_proceeding[\"CASEPRIORITY_CODE\"] != \"UC\") & \n",
    "    # Keep only \"removal\" cases\n",
    "    (cases_with_first_proceeding[\"CASE_TYPE\"] == \"RMV\")\n",
    "].copy()"
   ]
  },
  {
   "cell_type": "code",
   "execution_count": 15,
   "metadata": {
    "collapsed": true
   },
   "outputs": [],
   "source": [
    "selected_cases[\"has_criminal_charge\"] = (\n",
    "    selected_cases[\"charge_list\"].str.contains(\"237a02\") |\n",
    "    selected_cases[\"charge_list\"].str.contains(\"212a02\")\n",
    ")"
   ]
  },
  {
   "cell_type": "code",
   "execution_count": 16,
   "metadata": {
    "collapsed": false
   },
   "outputs": [],
   "source": [
    "selected_cases[\"detained\"] = selected_cases[\"CUSTODY\"].map({\"N\": 0, \"D\": 1, \"R\": 1})"
   ]
  },
  {
   "cell_type": "code",
   "execution_count": 17,
   "metadata": {
    "collapsed": false
   },
   "outputs": [],
   "source": [
    "non_crim_selected_cases = selected_cases[~selected_cases[\"has_criminal_charge\"]].copy()"
   ]
  },
  {
   "cell_type": "markdown",
   "metadata": {},
   "source": [
    "## Overall detention rate for non-Mexican non-criminal cases"
   ]
  },
  {
   "cell_type": "code",
   "execution_count": 18,
   "metadata": {
    "collapsed": false
   },
   "outputs": [
    {
     "name": "stdout",
     "output_type": "stream",
     "text": [
      "39.1%\n"
     ]
    }
   ],
   "source": [
    "non_crim_non_mex = non_crim_selected_cases[non_crim_selected_cases[\"NAT\"] != \"MX\"]\n",
    "print(\"{0:.1f}%\".format(100 * non_crim_non_mex[\"detained\"].mean()))"
   ]
  },
  {
   "cell_type": "markdown",
   "metadata": {},
   "source": [
    "## Calculate detention rates by nationality"
   ]
  },
  {
   "cell_type": "code",
   "execution_count": 19,
   "metadata": {
    "collapsed": false
   },
   "outputs": [],
   "source": [
    "non_crim_custody_by_nationality = non_crim_selected_cases.groupby([\"NAT\", \"CUSTODY\"])\\\n",
    "    .size()\\\n",
    "    .unstack()\\\n",
    "    .fillna(0)"
   ]
  },
  {
   "cell_type": "code",
   "execution_count": 20,
   "metadata": {
    "collapsed": false
   },
   "outputs": [],
   "source": [
    "non_crim_custody_by_nationality[\"total\"] = non_crim_custody_by_nationality.sum(axis=1)"
   ]
  },
  {
   "cell_type": "code",
   "execution_count": 21,
   "metadata": {
    "collapsed": false
   },
   "outputs": [],
   "source": [
    "non_crim_custody_by_nationality[\"percent_detained\"] = non_crim_custody_by_nationality\\\n",
    "    .apply(lambda x: round(100.0 * (x[\"D\"] + x[\"R\"]) / x[\"total\"], 1), axis=1)"
   ]
  },
  {
   "cell_type": "code",
   "execution_count": 22,
   "metadata": {
    "collapsed": false
   },
   "outputs": [
    {
     "data": {
      "text/plain": [
       "NAT_CODE\n",
       "??          UNKNOWN NATIONALITY\n",
       "AB                        ARUBA\n",
       "AC          ANTIGUA AND BARBUDA\n",
       "AF                  AFGHANISTAN\n",
       "AG                      ALGERIA\n",
       "Name: NAT_NAME, dtype: object"
      ]
     },
     "execution_count": 22,
     "metadata": {},
     "output_type": "execute_result"
    }
   ],
   "source": [
    "nationality_table.set_index(\"NAT_CODE\")[\"NAT_NAME\"].head()"
   ]
  },
  {
   "cell_type": "code",
   "execution_count": 23,
   "metadata": {
    "collapsed": false
   },
   "outputs": [],
   "source": [
    "# Add full country names\n",
    "non_crim_custody_by_nationality[\"NAT_NAME\"] = non_crim_custody_by_nationality\\\n",
    "    .join(nationality_table.set_index(\"NAT_CODE\")[[\"NAT_NAME\"]])[\"NAT_NAME\"]"
   ]
  },
  {
   "cell_type": "code",
   "execution_count": 24,
   "metadata": {
    "collapsed": false
   },
   "outputs": [],
   "source": [
    "main_columns = [\"N\", \"D\", \"R\", \"total\", \"percent_detained\", \"NAT_NAME\"]\n",
    "large_nationalities = non_crim_custody_by_nationality[\n",
    "    non_crim_custody_by_nationality[\"total\"] > 20000\n",
    "].sort(\"percent_detained\", ascending=False)[main_columns]"
   ]
  },
  {
   "cell_type": "markdown",
   "metadata": {},
   "source": [
    "## Table: Per-Nationality Detention Rate"
   ]
  },
  {
   "cell_type": "code",
   "execution_count": 25,
   "metadata": {
    "collapsed": false
   },
   "outputs": [
    {
     "data": {
      "text/html": [
       "<div style=\"max-height:1000px;max-width:1500px;overflow:auto;\">\n",
       "<table border=\"1\" class=\"dataframe\">\n",
       "  <thead>\n",
       "    <tr style=\"text-align: right;\">\n",
       "      <th>CUSTODY</th>\n",
       "      <th>N</th>\n",
       "      <th>D</th>\n",
       "      <th>R</th>\n",
       "      <th>total</th>\n",
       "      <th>percent_detained</th>\n",
       "      <th>NAT_NAME</th>\n",
       "    </tr>\n",
       "    <tr>\n",
       "      <th>NAT</th>\n",
       "      <th></th>\n",
       "      <th></th>\n",
       "      <th></th>\n",
       "      <th></th>\n",
       "      <th></th>\n",
       "      <th></th>\n",
       "    </tr>\n",
       "  </thead>\n",
       "  <tbody>\n",
       "    <tr>\n",
       "      <th>MX</th>\n",
       "      <td> 211607</td>\n",
       "      <td> 500627</td>\n",
       "      <td> 123631</td>\n",
       "      <td> 835865</td>\n",
       "      <td> 74.7</td>\n",
       "      <td>             MEXICO</td>\n",
       "    </tr>\n",
       "    <tr>\n",
       "      <th>GT</th>\n",
       "      <td>  82227</td>\n",
       "      <td>  73429</td>\n",
       "      <td>  53525</td>\n",
       "      <td> 209181</td>\n",
       "      <td> 60.7</td>\n",
       "      <td>          GUATEMALA</td>\n",
       "    </tr>\n",
       "    <tr>\n",
       "      <th>EC</th>\n",
       "      <td>  12188</td>\n",
       "      <td>   5179</td>\n",
       "      <td>  10663</td>\n",
       "      <td>  28030</td>\n",
       "      <td> 56.5</td>\n",
       "      <td>            ECUADOR</td>\n",
       "    </tr>\n",
       "    <tr>\n",
       "      <th>HO</th>\n",
       "      <td> 105350</td>\n",
       "      <td>  52544</td>\n",
       "      <td>  47282</td>\n",
       "      <td> 205176</td>\n",
       "      <td> 48.7</td>\n",
       "      <td>           HONDURAS</td>\n",
       "    </tr>\n",
       "    <tr>\n",
       "      <th>IN</th>\n",
       "      <td>  14196</td>\n",
       "      <td>   1793</td>\n",
       "      <td>  11174</td>\n",
       "      <td>  27163</td>\n",
       "      <td> 47.7</td>\n",
       "      <td>              INDIA</td>\n",
       "    </tr>\n",
       "    <tr>\n",
       "      <th>DR</th>\n",
       "      <td>  10795</td>\n",
       "      <td>   5740</td>\n",
       "      <td>   3831</td>\n",
       "      <td>  20366</td>\n",
       "      <td> 47.0</td>\n",
       "      <td> DOMINICAN REPUBLIC</td>\n",
       "    </tr>\n",
       "    <tr>\n",
       "      <th>ES</th>\n",
       "      <td> 140820</td>\n",
       "      <td>  48522</td>\n",
       "      <td>  68096</td>\n",
       "      <td> 257438</td>\n",
       "      <td> 45.3</td>\n",
       "      <td>        EL SALVADOR</td>\n",
       "    </tr>\n",
       "    <tr>\n",
       "      <th>BR</th>\n",
       "      <td>  43364</td>\n",
       "      <td>  10442</td>\n",
       "      <td>   5760</td>\n",
       "      <td>  59566</td>\n",
       "      <td> 27.2</td>\n",
       "      <td>             BRAZIL</td>\n",
       "    </tr>\n",
       "    <tr>\n",
       "      <th>CO</th>\n",
       "      <td>  25681</td>\n",
       "      <td>   3284</td>\n",
       "      <td>   3165</td>\n",
       "      <td>  32130</td>\n",
       "      <td> 20.1</td>\n",
       "      <td>           COLOMBIA</td>\n",
       "    </tr>\n",
       "    <tr>\n",
       "      <th>CH</th>\n",
       "      <td>  75969</td>\n",
       "      <td>   3064</td>\n",
       "      <td>  14431</td>\n",
       "      <td>  93464</td>\n",
       "      <td> 18.7</td>\n",
       "      <td>              CHINA</td>\n",
       "    </tr>\n",
       "    <tr>\n",
       "      <th>HA</th>\n",
       "      <td>  26910</td>\n",
       "      <td>   2310</td>\n",
       "      <td>   3225</td>\n",
       "      <td>  32445</td>\n",
       "      <td> 17.1</td>\n",
       "      <td>              HAITI</td>\n",
       "    </tr>\n",
       "    <tr>\n",
       "      <th>CU</th>\n",
       "      <td>  25977</td>\n",
       "      <td>   1321</td>\n",
       "      <td>   3643</td>\n",
       "      <td>  30941</td>\n",
       "      <td> 16.0</td>\n",
       "      <td>               CUBA</td>\n",
       "    </tr>\n",
       "  </tbody>\n",
       "</table>\n",
       "</div>"
      ],
      "text/plain": [
       "CUSTODY       N       D       R   total  percent_detained            NAT_NAME\n",
       "NAT                                                                          \n",
       "MX       211607  500627  123631  835865              74.7              MEXICO\n",
       "GT        82227   73429   53525  209181              60.7           GUATEMALA\n",
       "EC        12188    5179   10663   28030              56.5             ECUADOR\n",
       "HO       105350   52544   47282  205176              48.7            HONDURAS\n",
       "IN        14196    1793   11174   27163              47.7               INDIA\n",
       "DR        10795    5740    3831   20366              47.0  DOMINICAN REPUBLIC\n",
       "ES       140820   48522   68096  257438              45.3         EL SALVADOR\n",
       "BR        43364   10442    5760   59566              27.2              BRAZIL\n",
       "CO        25681    3284    3165   32130              20.1            COLOMBIA\n",
       "CH        75969    3064   14431   93464              18.7               CHINA\n",
       "HA        26910    2310    3225   32445              17.1               HAITI\n",
       "CU        25977    1321    3643   30941              16.0                CUBA"
      ]
     },
     "execution_count": 25,
     "metadata": {},
     "output_type": "execute_result"
    }
   ],
   "source": [
    "large_nationalities"
   ]
  },
  {
   "cell_type": "markdown",
   "metadata": {},
   "source": [
    "## Regression Analysis of Removal Cases\n",
    "\n",
    "The regression below analyzes the relationship between detention and the following factors:\n",
    "\n",
    "* Nationality\n",
    "* Whether the cases includes any criminal charges\n",
    "* If the immigrant had legal representation at his/her first scheduled proceeding\n",
    "* The gender of the immigrant (\"UNK\" if not listed)\n",
    "\n",
    "Note that being detained at any point (**D** or **R** in the `CUSTODY` column) is considered as detention for our analysis."
   ]
  },
  {
   "cell_type": "code",
   "execution_count": 26,
   "metadata": {
    "collapsed": false
   },
   "outputs": [],
   "source": [
    "import statsmodels.api as sm\n",
    "import scipy.stats\n",
    "import patsy"
   ]
  },
  {
   "cell_type": "code",
   "execution_count": 27,
   "metadata": {
    "collapsed": true
   },
   "outputs": [],
   "source": [
    "regression_cases = selected_cases.copy()"
   ]
  },
  {
   "cell_type": "code",
   "execution_count": 28,
   "metadata": {
    "collapsed": false
   },
   "outputs": [],
   "source": [
    "# Create dummy variables for nationalities with at least 20,000 non-criminal cases\n",
    "top_nat_names = []\n",
    "for tn in large_nationalities.index:\n",
    "    c_name = \"IS_{0}\".format(tn)\n",
    "    top_nat_names.append(c_name)\n",
    "    regression_cases[c_name] = regression_cases[\"NAT\"].apply(lambda x: 1 if x == tn else 0)"
   ]
  },
  {
   "cell_type": "code",
   "execution_count": 29,
   "metadata": {
    "collapsed": false
   },
   "outputs": [
    {
     "name": "stdout",
     "output_type": "stream",
     "text": [
      "Optimization terminated successfully.\n",
      "         Current function value: 0.558104\n",
      "         Iterations 6\n"
     ]
    },
    {
     "data": {
      "text/html": [
       "<table class=\"simpletable\">\n",
       "<caption>Logit Regression Results</caption>\n",
       "<tr>\n",
       "  <th>Dep. Variable:</th>     <td>detained</td>     <th>  No. Observations:  </th>   <td>2618476</td>  \n",
       "</tr>\n",
       "<tr>\n",
       "  <th>Model:</th>               <td>Logit</td>      <th>  Df Residuals:      </th>   <td>2618459</td>  \n",
       "</tr>\n",
       "<tr>\n",
       "  <th>Method:</th>               <td>MLE</td>       <th>  Df Model:          </th>   <td>    16</td>   \n",
       "</tr>\n",
       "<tr>\n",
       "  <th>Date:</th>          <td>Fri, 21 Aug 2015</td> <th>  Pseudo R-squ.:     </th>   <td>0.1813</td>   \n",
       "</tr>\n",
       "<tr>\n",
       "  <th>Time:</th>              <td>11:01:44</td>     <th>  Log-Likelihood:    </th> <td>-1.4614e+06</td>\n",
       "</tr>\n",
       "<tr>\n",
       "  <th>converged:</th>           <td>True</td>       <th>  LL-Null:           </th> <td>-1.7849e+06</td>\n",
       "</tr>\n",
       "<tr>\n",
       "  <th> </th>                      <td> </td>        <th>  LLR p-value:       </th>   <td> 0.000</td>   \n",
       "</tr>\n",
       "</table>\n",
       "<table class=\"simpletable\">\n",
       "<tr>\n",
       "                    <td></td>                       <th>coef</th>     <th>std err</th>      <th>z</th>      <th>P>|z|</th> <th>[95.0% Conf. Int.]</th> \n",
       "</tr>\n",
       "<tr>\n",
       "  <th>Intercept</th>                             <td>   -1.4167</td> <td>    0.009</td> <td> -152.946</td> <td> 0.000</td> <td>   -1.435    -1.399</td>\n",
       "</tr>\n",
       "<tr>\n",
       "  <th>legal_rep_at_first_proceeding[T.True]</th> <td>   -0.8076</td> <td>    0.005</td> <td> -168.949</td> <td> 0.000</td> <td>   -0.817    -0.798</td>\n",
       "</tr>\n",
       "<tr>\n",
       "  <th>has_criminal_charge[T.True]</th>           <td>    1.8889</td> <td>    0.005</td> <td>  352.255</td> <td> 0.000</td> <td>    1.878     1.899</td>\n",
       "</tr>\n",
       "<tr>\n",
       "  <th>GENDER[T.M]</th>                           <td>    1.4407</td> <td>    0.010</td> <td>  144.531</td> <td> 0.000</td> <td>    1.421     1.460</td>\n",
       "</tr>\n",
       "<tr>\n",
       "  <th>GENDER[T.UNK]</th>                         <td>    0.5915</td> <td>    0.009</td> <td>   67.052</td> <td> 0.000</td> <td>    0.574     0.609</td>\n",
       "</tr>\n",
       "<tr>\n",
       "  <th>IS_MX</th>                                 <td>    1.8861</td> <td>    0.004</td> <td>  457.676</td> <td> 0.000</td> <td>    1.878     1.894</td>\n",
       "</tr>\n",
       "<tr>\n",
       "  <th>IS_GT</th>                                 <td>    1.2365</td> <td>    0.006</td> <td>  219.363</td> <td> 0.000</td> <td>    1.225     1.248</td>\n",
       "</tr>\n",
       "<tr>\n",
       "  <th>IS_EC</th>                                 <td>    1.1034</td> <td>    0.013</td> <td>   88.065</td> <td> 0.000</td> <td>    1.079     1.128</td>\n",
       "</tr>\n",
       "<tr>\n",
       "  <th>IS_HO</th>                                 <td>    0.7721</td> <td>    0.006</td> <td>  138.517</td> <td> 0.000</td> <td>    0.761     0.783</td>\n",
       "</tr>\n",
       "<tr>\n",
       "  <th>IS_IN</th>                                 <td>    0.7639</td> <td>    0.013</td> <td>   60.588</td> <td> 0.000</td> <td>    0.739     0.789</td>\n",
       "</tr>\n",
       "<tr>\n",
       "  <th>IS_DR</th>                                 <td>    0.6008</td> <td>    0.012</td> <td>   50.157</td> <td> 0.000</td> <td>    0.577     0.624</td>\n",
       "</tr>\n",
       "<tr>\n",
       "  <th>IS_ES</th>                                 <td>    0.6511</td> <td>    0.005</td> <td>  125.622</td> <td> 0.000</td> <td>    0.641     0.661</td>\n",
       "</tr>\n",
       "<tr>\n",
       "  <th>IS_BR</th>                                 <td>   -0.1507</td> <td>    0.010</td> <td>  -15.445</td> <td> 0.000</td> <td>   -0.170    -0.132</td>\n",
       "</tr>\n",
       "<tr>\n",
       "  <th>IS_CO</th>                                 <td>   -0.2779</td> <td>    0.012</td> <td>  -22.882</td> <td> 0.000</td> <td>   -0.302    -0.254</td>\n",
       "</tr>\n",
       "<tr>\n",
       "  <th>IS_CH</th>                                 <td>   -0.5034</td> <td>    0.009</td> <td>  -56.167</td> <td> 0.000</td> <td>   -0.521    -0.486</td>\n",
       "</tr>\n",
       "<tr>\n",
       "  <th>IS_HA</th>                                 <td>   -0.6089</td> <td>    0.013</td> <td>  -46.822</td> <td> 0.000</td> <td>   -0.634    -0.583</td>\n",
       "</tr>\n",
       "<tr>\n",
       "  <th>IS_CU</th>                                 <td>   -0.7351</td> <td>    0.012</td> <td>  -63.392</td> <td> 0.000</td> <td>   -0.758    -0.712</td>\n",
       "</tr>\n",
       "</table>"
      ],
      "text/plain": [
       "<class 'statsmodels.iolib.summary.Summary'>\n",
       "\"\"\"\n",
       "                           Logit Regression Results                           \n",
       "==============================================================================\n",
       "Dep. Variable:               detained   No. Observations:              2618476\n",
       "Model:                          Logit   Df Residuals:                  2618459\n",
       "Method:                           MLE   Df Model:                           16\n",
       "Date:                Fri, 21 Aug 2015   Pseudo R-squ.:                  0.1813\n",
       "Time:                        11:01:44   Log-Likelihood:            -1.4614e+06\n",
       "converged:                       True   LL-Null:                   -1.7849e+06\n",
       "                                        LLR p-value:                     0.000\n",
       "=========================================================================================================\n",
       "                                            coef    std err          z      P>|z|      [95.0% Conf. Int.]\n",
       "---------------------------------------------------------------------------------------------------------\n",
       "Intercept                                -1.4167      0.009   -152.946      0.000        -1.435    -1.399\n",
       "legal_rep_at_first_proceeding[T.True]    -0.8076      0.005   -168.949      0.000        -0.817    -0.798\n",
       "has_criminal_charge[T.True]               1.8889      0.005    352.255      0.000         1.878     1.899\n",
       "GENDER[T.M]                               1.4407      0.010    144.531      0.000         1.421     1.460\n",
       "GENDER[T.UNK]                             0.5915      0.009     67.052      0.000         0.574     0.609\n",
       "IS_MX                                     1.8861      0.004    457.676      0.000         1.878     1.894\n",
       "IS_GT                                     1.2365      0.006    219.363      0.000         1.225     1.248\n",
       "IS_EC                                     1.1034      0.013     88.065      0.000         1.079     1.128\n",
       "IS_HO                                     0.7721      0.006    138.517      0.000         0.761     0.783\n",
       "IS_IN                                     0.7639      0.013     60.588      0.000         0.739     0.789\n",
       "IS_DR                                     0.6008      0.012     50.157      0.000         0.577     0.624\n",
       "IS_ES                                     0.6511      0.005    125.622      0.000         0.641     0.661\n",
       "IS_BR                                    -0.1507      0.010    -15.445      0.000        -0.170    -0.132\n",
       "IS_CO                                    -0.2779      0.012    -22.882      0.000        -0.302    -0.254\n",
       "IS_CH                                    -0.5034      0.009    -56.167      0.000        -0.521    -0.486\n",
       "IS_HA                                    -0.6089      0.013    -46.822      0.000        -0.634    -0.583\n",
       "IS_CU                                    -0.7351      0.012    -63.392      0.000        -0.758    -0.712\n",
       "=========================================================================================================\n",
       "\"\"\""
      ]
     },
     "execution_count": 29,
     "metadata": {},
     "output_type": "execute_result"
    }
   ],
   "source": [
    "base_formula = 'detained ~ legal_rep_at_first_proceeding + has_criminal_charge + GENDER'\n",
    "formula = \"{0} + {1}\".format(base_formula, \"+\".join(top_nat_names))\n",
    "y,x = patsy.dmatrices(formula, regression_cases, return_type=\"dataframe\")\n",
    "est1 = sm.Logit(y,x).fit()\n",
    "est1.summary()"
   ]
  },
  {
   "cell_type": "markdown",
   "metadata": {
    "collapsed": false
   },
   "source": [
    "---\n",
    "\n",
    "---\n",
    "\n",
    "---"
   ]
  }
 ],
 "metadata": {
  "kernelspec": {
   "display_name": "Python 2",
   "language": "python",
   "name": "python2"
  },
  "language_info": {
   "codemirror_mode": {
    "name": "ipython",
    "version": 2
   },
   "file_extension": ".py",
   "mimetype": "text/x-python",
   "name": "python",
   "nbconvert_exporter": "python",
   "pygments_lexer": "ipython2",
   "version": "2.7.9"
  }
 },
 "nbformat": 4,
 "nbformat_minor": 0
}
